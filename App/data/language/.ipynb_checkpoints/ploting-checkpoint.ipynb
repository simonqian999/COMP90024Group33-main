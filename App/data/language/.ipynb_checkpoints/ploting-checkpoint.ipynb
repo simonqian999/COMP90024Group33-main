{
 "cells": [
  {
   "cell_type": "code",
   "execution_count": 18,
   "metadata": {},
   "outputs": [],
   "source": [
    "import json"
   ]
  },
  {
   "cell_type": "code",
   "execution_count": 19,
   "metadata": {},
   "outputs": [],
   "source": [
    "city_list = ['Greater Sydney','Greater Melbourne','Greater Brisbane','Greater Adelaide','Greater Darwin']"
   ]
  },
  {
   "cell_type": "code",
   "execution_count": 20,
   "metadata": {},
   "outputs": [],
   "source": [
    "plot_dict = {}\n",
    "for city in city_list:\n",
    "    plot_dict[city] = {\"keys\": [], \"value\": []}\n",
    "    "
   ]
  },
  {
   "cell_type": "code",
   "execution_count": 21,
   "metadata": {},
   "outputs": [
    {
     "name": "stdout",
     "output_type": "stream",
     "text": [
      "{'Greater Sydney': {'keys': ['Chinese', 'Arabic', 'Vietnamese', 'Greek', 'Hindi', 'Italian', 'Korean', 'Spanish', 'Tagalog', 'Indonesian'], 'value': [384639, 194040, 99333, 76140, 64043, 62642, 57718, 56826, 40625, 28614]}, 'Greater Melbourne': {'keys': ['Chinese', 'Greek', 'Italian', 'Vietnamese', 'Arabic', 'Punjabi', 'Hindi', 'Spanish', 'Urdu', 'Tagalog'], 'value': [279923, 107136, 101341, 101340, 76317, 52780, 49386, 33661, 22427, 20818]}, 'Greater Brisbane': {'keys': ['Chinese', 'Vietnamese', 'Spanish', 'Hindi', 'Korean', 'Punjabi', 'Italian', 'Arabic', 'Tagalog', 'Greek'], 'value': [76284, 22562, 14757, 14535, 13175, 12993, 10062, 9868, 9244, 7547]}, 'Greater Adelaide': {'keys': ['Chinese', 'Italian', 'Greek', 'Vietnamese', 'Arabic', 'Punjabi', 'Hindi', 'Polish', 'Spanish', 'Persian'], 'value': [39112, 27466, 21372, 18541, 9072, 8499, 7058, 5449, 5387, 4584]}, 'Greater Darwin': {'keys': ['Greek', 'Chinese', 'Tagalog', 'Filipino', 'Indonesian', 'Vietnamese', 'Thai', 'Italian', 'Hindi', 'French'], 'value': [3169, 3159, 2593, 1703, 1107, 1026, 740, 655, 652, 510]}}\n"
     ]
    }
   ],
   "source": [
    "with open('language_output.json') as f:\n",
    "    data = json.load(f)\n",
    "    for city in city_list:\n",
    "        city_lang = data[city]\n",
    "        city_lang = dict(sorted(city_lang.items(), key=lambda item: item[1],reverse=True))\n",
    "        for key in city_lang.keys():\n",
    "            plot_dict[city][\"keys\"].append(key)\n",
    "            plot_dict[city][\"value\"].append(city_lang[key])\n",
    "        plot_dict[city][\"keys\"] = plot_dict[city][\"keys\"][:10]\n",
    "        plot_dict[city][\"value\"] = plot_dict[city][\"value\"][:10]\n",
    "print(plot_dict)    "
   ]
  },
  {
   "cell_type": "code",
   "execution_count": null,
   "metadata": {},
   "outputs": [],
   "source": []
  }
 ],
 "metadata": {
  "kernelspec": {
   "display_name": "Python 3",
   "language": "python",
   "name": "python3"
  },
  "language_info": {
   "codemirror_mode": {
    "name": "ipython",
    "version": 3
   },
   "file_extension": ".py",
   "mimetype": "text/x-python",
   "name": "python",
   "nbconvert_exporter": "python",
   "pygments_lexer": "ipython3",
   "version": "3.8.5"
  }
 },
 "nbformat": 4,
 "nbformat_minor": 4
}

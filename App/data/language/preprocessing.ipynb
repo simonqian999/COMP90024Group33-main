{
 "cells": [
  {
   "cell_type": "code",
   "execution_count": 1,
   "metadata": {},
   "outputs": [],
   "source": [
    "import re\n",
    "import string\n",
    "import pandas as pd\n",
    "import numpy as np \n",
    "import warnings\n",
    "warnings.filterwarnings(\"ignore\")"
   ]
  },
  {
   "cell_type": "code",
   "execution_count": 2,
   "metadata": {},
   "outputs": [],
   "source": [
    "df_au = pd.read_csv('language_au.csv')"
   ]
  },
  {
   "cell_type": "markdown",
   "metadata": {},
   "source": [
    "\" gcc_code16\": \"gcc_code\","
   ]
  },
  {
   "cell_type": "code",
   "execution_count": 3,
   "metadata": {},
   "outputs": [],
   "source": [
    "want_dic = {\" gcc_name16\": \"gcc_name\",\" gcc_code16\": \"gcc_code\", \" spks_othr_lang_arabic_p\": \"Arabic\",\n",
    "                 \" spks_othr_lan_chin_lan_tot_p\": \"Chinese\",\n",
    "                 \" spks_other_lang_vietnamese_p\": \"Vietnamese\",\n",
    "                 \" spks_other_lang_italian_p\": \"Italian\",\n",
    "                 \" spks_othr_lang_greek_p\": \"Greek\",\n",
    "                 \" sp_oth_la_se_as_au_la_fili_p\": \"Filipino\",\n",
    "                 \" sp_oth_lan_indo_ary_lan_hin_p\": \"Hindi\",\n",
    "                 \" spks_other_lang_spanish_p\": \"Spanish\",\n",
    "                 \" sp_oth_lan_ind_ary_lan_punj_p\": \"Punjabi\",\n",
    "            \" spks_othr_lang_polish_p\": \"Polish\",\n",
    "            \" spks_othr_lang_japanese_p\": \"Japanese\",\n",
    "            \" spks_other_lang_spanish_p\": \"Spanish\",\n",
    "            \" sp_oth_la_se_as_au_la_indo_p\": \"Indonesian\",\n",
    "            \" sp_oth_la_se_as_au_la_tag_p\": \"Tagalog\",\n",
    "            \" sp_oth_lan_indo_ary_lan_urd_p\": \"Urdu\",\n",
    "            \" sp_oth_lan_persian_ex_dari_p\": \"Persian\",\n",
    "            \" spks_othr_lang_french_p\": \"French\",\n",
    "            \" spks_other_lang_thai_p\": \"Thai\",\n",
    "            \" spks_other_lang_russian_p\": \"Russian\",\n",
    "            \" spks_othr_lang_korean_p\": \"Korean\",\n",
    "           \" spks_eng_on_p\": \"English\",\n",
    "           \" tot_p\": \"Total\"}"
   ]
  },
  {
   "cell_type": "code",
   "execution_count": 4,
   "metadata": {},
   "outputs": [],
   "source": [
    "def getList(dic):\n",
    "    lis = []\n",
    "    for key in dic.values():\n",
    "        lis.append(key)\n",
    "          \n",
    "    return lis\n",
    "re_list = getList(want_dic)"
   ]
  },
  {
   "cell_type": "code",
   "execution_count": 5,
   "metadata": {},
   "outputs": [],
   "source": [
    "def preprocessing(df):\n",
    "    \"\"\"\n",
    "    :desc:  \n",
    "        This function will keep useful attribute \n",
    "    \"\"\"\n",
    "\n",
    "    for col in df.columns:\n",
    "        if col not in want_dic.keys():\n",
    "            df = df.drop([col], axis = 1)\n",
    "            \n",
    "    for col in df.columns:\n",
    "        df.rename(columns={col:want_dic[col]}, inplace = True)\n",
    "    \n",
    "    df[\"English_only_per\"] = df[\"English\"] / df[\"Total\"]\n",
    "    re_list.append(\"English_only_per\")\n",
    "    df = df[re_list]\n",
    "    df = df.drop([\"Total\"], axis = 1)\n",
    "    df = df.drop([\"English\"], axis = 1)\n",
    "    return df\n"
   ]
  },
  {
   "cell_type": "code",
   "execution_count": 6,
   "metadata": {},
   "outputs": [],
   "source": [
    "df_au = preprocessing(df_au)\n",
    "df_au = df_au.loc[(df_au[\"gcc_code\"] == \"1GSYD\") | (df_au[\"gcc_code\"] == \"2GMEL\") | (df_au[\"gcc_code\"] == \"3GBRI\") | (df_au[\"gcc_code\"] == \"4GADE\") | (df_au[\"gcc_code\"] == \"7GDAR\" ) ]\n",
    "df_au = df_au.drop([\"gcc_code\"], axis = 1)"
   ]
  },
  {
   "cell_type": "code",
   "execution_count": 7,
   "metadata": {},
   "outputs": [],
   "source": [
    "df_au = df_au.set_index('gcc_name')\n",
    "df_au.to_json('language_output.json', orient='index')"
   ]
  },
  {
   "cell_type": "code",
   "execution_count": 8,
   "metadata": {},
   "outputs": [],
   "source": [
    "df_au.to_csv('language_result.csv')"
   ]
  }
 ],
 "metadata": {
  "kernelspec": {
   "display_name": "Python 3",
   "language": "python",
   "name": "python3"
  },
  "language_info": {
   "codemirror_mode": {
    "name": "ipython",
    "version": 3
   },
   "file_extension": ".py",
   "mimetype": "text/x-python",
   "name": "python",
   "nbconvert_exporter": "python",
   "pygments_lexer": "ipython3",
   "version": "3.8.5"
  }
 },
 "nbformat": 4,
 "nbformat_minor": 4
}

{
 "cells": [
  {
   "cell_type": "code",
   "execution_count": 3,
   "id": "a0ad3a64-f421-4bae-8185-37a423906317",
   "metadata": {},
   "outputs": [],
   "source": [
    "word_dic = {\n",
    "    'melbourne': [{'name': 'auspol', 'value': 115}, {'name': 'victraffic', 'value': 95}, {'name': 'ausvotes', 'value': 88}, \n",
    "    {'name': 'Melbourne', 'value': 49}, {'name': 'GoPies', 'value': 47}, {'name': 'LNPliarsCrooksThieves', 'value': 42}, \n",
    "    {'name': 'gopies', 'value': 35}, {'name': 'AlboForPM', 'value': 30}, {'name': 'QandA', 'value': 28}, {'name': 'AFLEaglesTigers', 'value': 27}], \n",
    "    'sydney': [{'name': 'Albo4PM', 'value': 239}, {'name': 'Labor', 'value': 217}, {'name': 'auspol', 'value': 159}, {'name': 'May21st', 'value': 115}, \n",
    "    {'name': 'ItsASin', 'value': 111}, {'name': 'funnyvideos', 'value': 110}, {'name': 'MayDay2022', 'value': 108}, {'name': 'ScoMo', 'value': 101}, \n",
    "    {'name': 'Greens', 'value': 85}, {'name': 'ausvotes', 'value': 82}], \n",
    "    'brisbane': [{'name': 'auspol', 'value': 87}, {'name': 'razorfadebarbershop', 'value': 72}, {'name': 'halililbrahimceyhan', 'value': 60}, \n",
    "    {'name': 'ausvotes', 'value': 56}, {'name': 'AusVotes2022', 'value': 50}, {'name': 'sılaatürkoğlu', 'value': 43}, {'name': 'furdu2022', 'value': 27}, \n",
    "    {'name': 'qanda', 'value': 22}, {'name': 'EternalThroneOfGod', 'value': 20}, {'name': 'FurDU', 'value': 20}], \n",
    "    'darwin': [{'name': 'AlboForPM', 'value': 17}, {'name': 'onlyfans', 'value': 6}, {'name': 'KeungTo', 'value': 6}, {'name': 'weflyasone', 'value': 6}, \n",
    "    {'name': 'Albo4PM', 'value': 5}, {'name': 'DojaCat', 'value': 4}, {'name': 'doja', 'value': 4}, {'name': 'AusKeungToCandies', 'value': 4}, {'name': 'HMASMaitland', 'value': 3}, \n",
    "    {'name': 'tattooed', 'value': 3}], \n",
    "    'adelaide': [{'name': 'EternalThroneOfGod', 'value': 30}, {'name': 'Heartstopper', 'value': 29}, {'name': 'Horror', 'value': 24}, {'name': 'Comedy', 'value': 24}, \n",
    "    {'name': 'HeartstopperNetflix', 'value': 19}, {'name': 'auspol', 'value': 16}, {'name': 'AFLCrowsGiants', 'value': 15}, {'name': 'ausvotes', 'value': 12}, \n",
    "    {'name': 'Adelaide', 'value': 12}, {'name': 'ASM22PER', 'value': 12}]\n",
    "}"
   ]
  },
  {
   "cell_type": "code",
   "execution_count": 4,
   "id": "1a12943e-cce7-483a-8caa-3c4cee0311c0",
   "metadata": {},
   "outputs": [
    {
     "name": "stderr",
     "output_type": "stream",
     "text": [
      "[nltk_data] Downloading package vader_lexicon to\n",
      "[nltk_data]     /Users/ccc/nltk_data...\n",
      "[nltk_data]   Package vader_lexicon is already up-to-date!\n"
     ]
    },
    {
     "data": {
      "text/plain": [
       "{'neg': 0.629, 'neu': 0.371, 'pos': 0.0, 'compound': -0.5256}"
      ]
     },
     "execution_count": 4,
     "metadata": {},
     "output_type": "execute_result"
    }
   ],
   "source": [
    "import nltk\n",
    "nltk.download('vader_lexicon')\n",
    "from nltk.sentiment import SentimentIntensityAnalyzer\n",
    "tweet_text = \"i am so sad\"\n",
    "sia = SentimentIntensityAnalyzer()\n",
    "score = sia.polarity_scores(tweet_text)\n",
    "score"
   ]
  },
  {
   "cell_type": "code",
   "execution_count": 5,
   "id": "bfa6810c-0fa4-4d45-b45e-b2dad0f79111",
   "metadata": {},
   "outputs": [
    {
     "data": {
      "text/plain": [
       "dict_keys(['melbourne', 'sydney', 'brisbane', 'darwin', 'adelaide'])"
      ]
     },
     "execution_count": 5,
     "metadata": {},
     "output_type": "execute_result"
    }
   ],
   "source": [
    "word_dic.keys()"
   ]
  },
  {
   "cell_type": "code",
   "execution_count": 6,
   "id": "b8b9e0b7-b5f0-4e1e-9253-67d9d81c5688",
   "metadata": {},
   "outputs": [],
   "source": [
    "def calculate_city_score(hashtag_list):\n",
    "    text = \"\"\n",
    "    for hashtag in hashtag_list:\n",
    "        text = text + \" \" + hashtag[\"name\"]\n",
    "    sia = SentimentIntensityAnalyzer()\n",
    "    score = sia.polarity_scores(text)\n",
    "    return score"
   ]
  },
  {
   "cell_type": "code",
   "execution_count": 7,
   "id": "86cf3c38-96e0-431f-ae9c-2a1b21835730",
   "metadata": {},
   "outputs": [],
   "source": [
    "def find_score(hash_tag_dict):\n",
    "    result_dict = {}\n",
    "    city_names = []\n",
    "    for city in hash_tag_dict.keys():\n",
    "        hashtag_list = hash_tag_dict[city]\n",
    "        result_dict[city] = calculate_city_score(hashtag_list)\n",
    "    return result_dict"
   ]
  },
  {
   "cell_type": "code",
   "execution_count": 19,
   "id": "04c5f683-3673-40db-9623-4fe45c77c267",
   "metadata": {},
   "outputs": [
    {
     "data": {
      "text/plain": [
       "{'melbourne': {'neg': 0.0, 'neu': 1.0, 'pos': 0.0, 'compound': 0.0},\n",
       " 'sydney': {'neg': 0.0, 'neu': 1.0, 'pos': 0.0, 'compound': 0.0},\n",
       " 'brisbane': {'neg': 0.0, 'neu': 1.0, 'pos': 0.0, 'compound': 0.0},\n",
       " 'darwin': {'neg': 0.0, 'neu': 1.0, 'pos': 0.0, 'compound': 0.0},\n",
       " 'adelaide': {'neg': 0.261, 'neu': 0.563, 'pos': 0.176, 'compound': -0.296}}"
      ]
     },
     "execution_count": 19,
     "metadata": {},
     "output_type": "execute_result"
    }
   ],
   "source": [
    "dic = find_city_score(word_dic)\n",
    "dic"
   ]
  },
  {
   "cell_type": "code",
   "execution_count": 35,
   "id": "f4b68d49-4af0-4b4a-9a86-e32bd06fd8a8",
   "metadata": {},
   "outputs": [
    {
     "name": "stdout",
     "output_type": "stream",
     "text": [
      "{'comp': [0.0, 0.0, 0.0, 0.0, -0.296], 'neu': [1.0, 1.0, 1.0, 1.0, 0.563], 'pos': [0.0, 0.0, 0.0, 0.0, 0.176], 'neg': [0.0, 0.0, 0.0, 0.0, 0.261]}\n"
     ]
    }
   ],
   "source": [
    "comp = []\n",
    "neu = []\n",
    "pos = []\n",
    "neg = []\n",
    "socre_dict = {}\n",
    "for score in dic.values():\n",
    "    comp.append(score['compound'])\n",
    "    neu.append(score['neu'])\n",
    "    pos.append(score['pos'])\n",
    "    neg.append(score['neg'])\n",
    "\n",
    "socre_dict['comp'] = comp\n",
    "socre_dict['neu'] = neu\n",
    "socre_dict['pos'] = pos\n",
    "socre_dict['neg'] = neg\n",
    "print(socre_dict)"
   ]
  },
  {
   "cell_type": "code",
   "execution_count": null,
   "id": "85d174cb-1b8b-45b7-90a8-81229b64980c",
   "metadata": {},
   "outputs": [],
   "source": []
  }
 ],
 "metadata": {
  "kernelspec": {
   "display_name": "Python 3",
   "language": "python",
   "name": "python3"
  },
  "language_info": {
   "codemirror_mode": {
    "name": "ipython",
    "version": 3
   },
   "file_extension": ".py",
   "mimetype": "text/x-python",
   "name": "python",
   "nbconvert_exporter": "python",
   "pygments_lexer": "ipython3",
   "version": "3.8.8"
  }
 },
 "nbformat": 4,
 "nbformat_minor": 5
}
